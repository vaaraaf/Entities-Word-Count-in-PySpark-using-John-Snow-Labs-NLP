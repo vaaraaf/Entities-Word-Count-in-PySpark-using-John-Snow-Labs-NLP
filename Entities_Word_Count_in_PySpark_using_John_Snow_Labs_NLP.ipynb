{
  "nbformat": 4,
  "nbformat_minor": 0,
  "metadata": {
    "colab": {
      "provenance": [],
      "include_colab_link": true
    },
    "kernelspec": {
      "name": "python3",
      "display_name": "Python 3"
    },
    "language_info": {
      "name": "python"
    }
  },
  "cells": [
    {
      "cell_type": "markdown",
      "metadata": {
        "id": "view-in-github",
        "colab_type": "text"
      },
      "source": [
        "<a href=\"https://colab.research.google.com/github/vaaraaf/Entities-Word-Count-in-PySpark-using-John-Snow-Labs-NLP/blob/main/Entities_Word_Count_in_PySpark_using_John_Snow_Labs_NLP.ipynb\" target=\"_parent\"><img src=\"https://colab.research.google.com/assets/colab-badge.svg\" alt=\"Open In Colab\"/></a>"
      ]
    },
    {
      "cell_type": "code",
      "source": [
        "! pip install spark-nlp"
      ],
      "metadata": {
        "colab": {
          "base_uri": "https://localhost:8080/"
        },
        "id": "XwGnRM-1tNaw",
        "outputId": "6052404f-6f12-4c4b-8dc3-be7c7e97d124"
      },
      "execution_count": null,
      "outputs": [
        {
          "output_type": "stream",
          "name": "stdout",
          "text": [
            "Collecting spark-nlp\n",
            "  Downloading spark_nlp-5.5.3-py2.py3-none-any.whl.metadata (19 kB)\n",
            "Downloading spark_nlp-5.5.3-py2.py3-none-any.whl (635 kB)\n",
            "\u001b[2K   \u001b[90m━━━━━━━━━━━━━━━━━━━━━━━━━━━━━━━━━━━━━━━━\u001b[0m \u001b[32m635.7/635.7 kB\u001b[0m \u001b[31m4.9 MB/s\u001b[0m eta \u001b[36m0:00:00\u001b[0m\n",
            "\u001b[?25hInstalling collected packages: spark-nlp\n",
            "Successfully installed spark-nlp-5.5.3\n"
          ]
        }
      ]
    },
    {
      "cell_type": "code",
      "source": [
        "import sparknlp\n",
        "spark = sparknlp.start()\n",
        "\n",
        "print(\"Spark NLP version: {}\".format(sparknlp.version()))\n",
        "print(\"Apache Spark version: {}\".format(spark.version))"
      ],
      "metadata": {
        "colab": {
          "base_uri": "https://localhost:8080/"
        },
        "id": "4eNNwUOHaT02",
        "outputId": "d8c4b182-9e60-417a-a67c-20d22d47fbf3"
      },
      "execution_count": null,
      "outputs": [
        {
          "output_type": "stream",
          "name": "stdout",
          "text": [
            "Spark NLP version: 5.5.3\n",
            "Apache Spark version: 3.5.5\n"
          ]
        }
      ]
    },
    {
      "cell_type": "code",
      "source": [
        "from sparknlp.pretrained import PretrainedPipeline"
      ],
      "metadata": {
        "id": "NPtZx_P4aVzM"
      },
      "execution_count": null,
      "outputs": []
    },
    {
      "cell_type": "code",
      "source": [
        "# use one of the following pipelines\n",
        "# pipeline = PretrainedPipeline('recognize_entities_dl', 'en')\n",
        "# pipeline = PretrainedPipeline('onto_recognize_entities_sm')\n",
        "pipeline = PretrainedPipeline('onto_recognize_entities_lg')"
      ],
      "metadata": {
        "colab": {
          "base_uri": "https://localhost:8080/"
        },
        "id": "hInk_jDVaWGy",
        "outputId": "4310da99-ef41-4dfe-f798-66f7943b4e09"
      },
      "execution_count": null,
      "outputs": [
        {
          "output_type": "stream",
          "name": "stdout",
          "text": [
            "onto_recognize_entities_lg download started this may take some time.\n",
            "Approx size to download 2.3 GB\n",
            "[OK!]\n"
          ]
        }
      ]
    },
    {
      "cell_type": "code",
      "source": [
        "file = open(\"book.txt\", \"r\")\n",
        "book = file.read()\n",
        "# print(content[0:3])"
      ],
      "metadata": {
        "id": "6yG1nvu-a2Nu"
      },
      "execution_count": null,
      "outputs": []
    },
    {
      "cell_type": "code",
      "source": [
        "result = pipeline.annotate(book)"
      ],
      "metadata": {
        "id": "Zw_6aZ3mcKAs"
      },
      "execution_count": null,
      "outputs": []
    },
    {
      "cell_type": "code",
      "source": [
        "entities = result['entities']\n",
        "print(entities)\n",
        "print('################')\n",
        "print(len(entities))"
      ],
      "metadata": {
        "colab": {
          "base_uri": "https://localhost:8080/"
        },
        "id": "m_HYjhlGf_-Z",
        "outputId": "3c039cdb-49b5-4442-8159-b373fd521460"
      },
      "execution_count": null,
      "outputs": [
        {
          "output_type": "stream",
          "name": "stdout",
          "text": [
            "['The Great Gatsby', 'the United States', 'the Project Gutenberg License', 'the United States', 'The Great Gatsby\\n\\nAuthor: F', 'Scott Fitzgerald', 'January 17, 2021', 'January 26', '2025', 'English', 'Alex Cabal', 'Project Gutenberg Australia', 'OF THE PROJECT GUTENBERG EBOOK THE GREAT GATSBY', 'The Great Gatsby\\n                                  by\\n                          F', 'Scott Fitzgerald', 'you!”\\n\\n  Thomas Parke', 'years', '“Whenever', 'East', 'Gatsby', 'ten\\nthousand miles', 'No—Gatsby', 'Gatsby', 'Middle\\nWestern', 'three', 'Carraways', 'the Dukes of\\nBuccleuch', 'fifty-one', 'the Civil\\nWar', 'today', 'New Haven', '1915', 'a quarter of\\na century', 'Teutonic', 'the Great War', 'the Middle West', 'East', 'one', 'a year', 'East', 'the spring of twenty-two', 'season', 'eighty', 'Washington', 'Dodge', 'Finnish', 'Finnish', 'a day', 'one morning', 'West Egg', 'one', 'dozen', 'Midas', 'Morgan', 'Maecenas', 'the Yale News—and', 'one', 'North America', 'New York—and', 'two', 'Twenty miles', 'Western', 'Long Island Sound', 'Columbus', 'West Egg', 'two', 'only fifty yards', 'Sound', 'two', 'twelve or fifteen thousand', 'one', 'Hôtel de Ville', 'Normandy', 'one', 'forty acres', 'Gatsby’s mansion', 'Gatsby', 'eighty dollars', 'East Egg', 'the Tom\\nBuchanans', 'Daisy', 'second', 'I’d', 'Tom', 'two days', 'Chicago', 'one', 'New Haven—a', 'one', 'twenty-one', 'Chicago', 'East', 'Lake\\nForest', 'a year', 'France', 'Daisy', 'Daisy’s', 'Tom', 'East\\nEgg', 'two', 'Georgian', 'a quarter of a mile', 'French', 'afternoon', 'Tom Buchanan', 'New Haven', 'years', 'thirty', 'Two', 'New Haven', '“Now', 'a few minutes', 'one', 'Italian', 'a half\\nacre', 'Demaine', 'French', 'one', 'two', 'Tom Buchanan', 'two', 'two', 'Daisy', 'a moment', 'Baker', 'Daisy’s', 'Baker’s', 'the next hour', 'Chicago', 'dozen', 'Tom', '“You', 'three years old', '“Never', 'She’s—”\\n\\nTom Buchanan', '“Who', 'East', 'East', 'Daisy', 'Baker', 'first', 'Daisy', 'New York', '“No', 'Baker', 'four', 'Baker', 'West Egg,”', 'Gatsby', 'Daisy', '“What Gatsby?”', 'Tom Buchanan', 'two', 'four', 'Daisy', '“In two weeks', 'the longest day in the year', 'Baker', '“All right,”', 'Daisy', 'Tom,”', 'Tom', '“Hulking,”', 'Daisy', 'Baker', 'Tom', 'West', '“You', 'Daisy,”', 'second', 'Tom', 'The Rise\\nof the Coloured Empires', 'Daisy', '“He', '“Well', 'Tom', 'Daisy', '“You', 'California—”', 'Baker', 'Tom', 'Nordics', 'Daisy', '“—And', 'Daisy', 'tonight', 'New York', 'two hundred', 'night', '“Things', 'Baker', 'Tom’s', 'Tom', 'Daisy', 'Nick', 'Doesn’t', 'Baker', 'one', 'Baker', 'Baker', '“This', 'Gatsby', 'Baker', '“Why—”', 'New York', 'Baker', '“She', 'Tom', 'Daisy', 'Daisy', 'Baker', 'Cunard', 'White Star Line', 'Daisy', 'Tom', 'the last five minutes', 'Daisy', 'Tom', 'Baker', 'fifth', 'Tom', 'Baker', 'Daisy', 'Daisy', 'Nick,”', 'I’ve', 'Nick', 'Nick', 'less than an hour', 'Tom', '“You', '“Everybody', 'Tom', 'Tom', 'Baker', 'Saturday Evening Post—the', 'a moment', '“Ten', '“Time', 'Daisy', 'Westchester', '“Oh—you’re Jordan Baker', 'Asheville', 'Hot Springs', 'Palm Beach', '“Good night,”', 'night', 'Carraway', 'Daisy', 'Nick', 'thing—”\\n\\n“Good night,”', 'Baker', 'Tom', '“Who', 'Daisy', '“Her', 'one', 'about a thousand years old', 'Nick', 'Daisy', 'Tom', 'Louisville', 'Nick', 'Tom', 'Nordic', 'first', 'Nick,”', 'a few minutes', 'Daisy', 'Tom', 'Daisy', 'three', 'one', 'Daisy', 'Tom', 'New York”', 'summer', 'West Egg', 'Gatsby', 'Baker', 'Gatsby', 'West Egg', 'New York', 'a quarter of a mile', 'one yard', 'Queens', 'many paintless days', 'one', 'as long as half an\\nhour', 'at least a minute', 'Tom Buchanan’s', 'one', 'New York', 'Tom', 'one\\nafternoon', 'Sunday afternoon', 'a hundred yards', 'Doctor Eckleburg’s', 'Main Street', 'One', 'three', 'third', 'George B. Wilson.', 'Tom', 'Ford', '“Hello', 'Wilson', 'man,”', 'Tom', 'Wilson', '“Next week', 'Tom', 'Wilson', 'Tom', 'the middle thirties', 'Tom', 'Wilson', 'Tom', 'Tom', 'George Wilson', 'two', 'a few days\\nbefore the Fourth of July', 'Italian', 'Tom', 'New York', 'Tom Buchanan', 'New York—or', 'Wilson', 'Tom', 'East Eggers', 'Tom', 'New York', 'Town Tattle', 'four', 'one', 'John\\nD', 'Rockefeller', 'a dozen', '“What', 'Wilson', 'one', 'one', 'Tom', '“No', 'Airedale', 'Wilson', '“That', 'ten\\ndollars', 'Airedale', '“That', 'Tom', 'ten', 'Fifth Avenue', 'Sunday', 'afternoon', 'Tom', '“Come', 'Catherine', 'She’s', 'the Park', 'the West Hundreds', '158th Street', 'one', 'Wilson', 'McKees', 'Versailles', 'Town Tattle', 'Simon Called Peter', 'Broadway', 'Wilson', 'first', 'Tom', 'second', 'eight o’clock', 'Wilson', 'Simon Called Peter—either', 'Tom', 'Myrtle', 'first', 'Wilson', 'first', 'Catherine', 'about thirty', 'McKee', 'Wilson’s', 'a hundred and twenty-seven', 'Wilson', '“My dear,”', 'last week', '“What', 'McKee', 'Eberhardt', 'McKee', 'Wilson', 'McKee', '“If Chester', 'Wilson', 'McKee', 'one', 'McKee', '“Sh!”', 'Tom Buchanan', '“You McKees', 'Myrtle', '“I', 'Myrtle', 'a dozen', 'Long Island,”', 'McKee', 'Tom', '“Two', '“Two', 'Tom', 'Montauk Point—The Gulls', 'Montauk Point—The Sea', 'Catherine', 'Long Island', 'West Egg', 'about a month ago', 'Gatsby’s', '“Well', 'Kaiser Wilhelm’s', 'McKee’s', 'Catherine', '“Chester', 'McKee', 'Tom', 'Long Island', '“Ask Myrtle,”', 'Tom', 'Wilson', '“Do', 'McKee', '“\\u200a‘George B', 'Wilson', 'Catherine', '“Neither', 'Myrtle', 'Tom', 'Wilson', 'Myrtle', 'Catherine', 'Catholic', 'Daisy', 'Catholic', '“When', 'Catherine', 'West', 'Europe', 'Monte Carlo', '“Just last year', '“Stay long?”\\n\\n“No', 'Monte Carlo', 'Marseilles', 'over twelve hundred dollars', 'two days', 'McKee', 'years', 'Chester', 'Myrtle Wilson', 'Myrtle', 'Catherine', '“Nobody', 'Myrtle', '“You', 'Catherine', 'Myrtle', '“Who', 'one day', '‘This', 'first', 'Catherine', 'eleven years', 'first', 'second', 'Catherine', 'Tom', 'Myrtle', 'first', 'Tom', 'two', 'New York', 'McKee', '“My', 'tomorrow', 'one', 'nine', 'ten', 'McKee', 'all the afternoon', 'a few feet', 'midnight', 'Tom Buchanan', 'Wilson', 'Wilson', 'Daisy’s', 'Daisy', 'Wilson', 'Daisy', 'Tom Buchanan', 'McKee', 'Catherine', 'Town Tattle', 'Versailles', 'McKee', 'McKee', 'the Beast … Loneliness … Old Grocery Horse … Brook’n\\nBridge', 'the\\nPennsylvania Station', 'morning', 'Tribune', 'four o’clock', 'two', 'Sound', 'weekends', 'Rolls-Royce', 'between nine in the morning and long past\\nmidnight', 'Mondays eight', 'all day', 'the night before', 'Friday five', 'New York—every', 'Monday', 'halves', 'two hundred', 'two hundred', 'several\\nhundred feet', 'Gatsby’s', 'seven o’clock', 'New York', 'five', 'Castile', 'one', 'Frisco', 'Gilda\\nGray’s', 'Follies', 'first', 'Gatsby’s', 'one', 'Long Island', 'Gatsby’s', 'Gatsby', 'Gatsby', 'Saturday', 'morning', 'Gatsby’s', 'Jay\\nGatsby', 'seven', 'Englishmen', 'Americans', 'two', 'three', 'Jordan Baker', 'two', 'the week\\nbefore', '“You', 'one', 'about a month ago', 'Jordan', 'two', 'three', 'Mumble', 'Jordan', 'Lucille', 'come,” Lucille', 'a week', 'Jordan', 'tonight', 'Two\\nhundred and sixty-five dollars', 'that,”', '“He', 'two', 'Jordan', '“Somebody', 'three', 'Mumbles', 'Lucille', 'German', 'One', 'Germany,”', 'no,”', 'first', 'American', 'Lucille', 'Gatsby', 'first', 'Jordan', 'three', 'Jordan’s', 'Jordan', 'Egg', 'West Egg', 'Jordan', 'first', 'Gatsby', 'Gothic', 'English', 'Jordan', 'Volume One of the Stoddard Lectures', 'Belasco', 'one', 'Jordan', 'Roosevelt,”', 'Claud\\nRoosevelt.', 'last night', '“A', 'They’re—”\\n\\n“You', 'midnight', 'Italian', 'Sound', 'Jordan Baker', 'two', 'the First\\nDivision', 'the Twenty-eighth Infantry', 'the Sixteenth', 'June nineteen-eighteen', 'France', 'Sound', '“What', '“Any', 'Jordan', '“This', 'Gatsby', 'a moment', 'Gatsby,”', 'one', 'four', 'five', 'a year or two over thirty', 'Gatsby', 'Chicago', 'Gatsby', 'his middle years', '“Who', '“He’s', 'Gatsby', '“Now you’re', 'Oxford', 'Gatsby', 'Louisiana', 'East Side', 'New York', 'Long Island Sound', '“Anyhow', 'Jordan', 'Gatsby', 'Vladmir Tostoff’s', 'Carnegie Hall', 'last May', '“as ‘Vladmir Tostoff’s\\nJazz History of the World!’\\u200a”', 'Tostoff’s', 'Gatsby', 'the “Jazz History of the World”', 'Gatsby', 'French', 'bob', 'Gatsby’s', 'Gatsby’s', 'one', 'Gatsby’s butler', '“Miss Baker?”', 'Gatsby', 'first', 'almost two', 'two', 'One', '“She', 'Jordan’s', 'East Egg', 'One', 'two', '“Whenever', '“Never', '“We’re', 'first', 'one', 'half an hour ago', 'Jordan Baker', 'Gatsby', 'Jordan’s', 'a moment', 'Sigourney Howard', '…”', 'first', 'Gatsby’s', 'early in the evening', '“And', 'tomorrow', 'morning', 'nine\\no’clock', 'a minute', '“Good night', '“Good night', '“Good night', 'the evening', 'Fifty feet', 'a dozen', 'one', 'Gatsby’s', 'two minutes', 'half a dozen', 'first', 'Gatsby’s', 'Owl Eyes', 'night', '“You', '“Look!”\\n\\nHalf', 'dozen', 'first', 'At least a dozen', '“Back out,”', 'Gatsby’s house', 'three nights', 'several weeks', 'summer', 'the early morning', 'New York', 'the Probity Trust', 'first', 'Jersey City', 'July', 'the Yale Club—for', 'Madison Avenue', 'Murray Hill Hotel', '33rd Street', 'the Pennsylvania Station', 'New York', 'Fifth Avenue', 'a few\\nminutes', 'night', 'eight o’clock', 'the Forties', 'five', 'Jordan Baker', 'midsummer', 'first', 'one', 'Warwick', 'that night', 'first', 'Jordan Baker', 'two', 'first', 'a week', 'Nick,”', 'at least one', 'one', 'Sunday morning', 'Gatsby’s house', 'Von Hindenburg', 'second', 'Gatsby’s house', 'that summer', '“This', 'July 5th', '1922.”', 'Gatsby’s', 'East Egg', 'the Chester Beckers and the Leeches', 'Bunsen', 'Yale', 'Doctor Webster Civet', 'last summer', 'Maine', 'Hornbeams', 'the Willie\\nVoltaires', 'Chrysties', 'Hubert Auerbach', 'Chrystie’s', '),', 'Edgar Beaver', 'afternoon', 'Clarence Endive', 'East Egg', 'Etty', 'Island', 'Cheadles', 'Schraeders', 'the Stonewall Jackson Abrams', 'Georgia', 'Fishguards', 'the Ripley Snells', 'Snell', 'three days', 'Ulysses Swett’s', 'Dancies', 'sixty', 'Maurice\\nA. Flink', 'Hammerheads', 'Beluga', 'Beluga’s', 'West Egg', 'Poles', 'Mulreadys', 'Cecil Roebuck', 'Cecil Schoen', 'Gulick the State', 'Newton Orchid', 'Films Par Excellence', 'Eckhaust', 'Clyde Cohen', 'Don\\nS', 'Schwartz', 'Arthur McCarty', 'one', 'Catlips', 'Bembergs', 'G', 'Earl Muldoon', 'Muldoon', 'Da Fontano', 'Ed Legros', 'James B.\\n(“Rot-Gut”) Ferret', 'the De Jongs', 'Ernest Lilly—they', 'Ferret', 'Associated Traction', 'next day', 'Klipspringer', 'Gus Waize', 'Horace O’Donavan', 'Lester Myer', 'George\\nDuckweed', 'Francis Bull', 'New York', 'Chromes', 'Backhyssons', 'Dennickers', 'Russel Betty', 'Corrigans', 'Kellehers', 'Dewars', 'Scullys', 'W', 'Belcher', 'Smirkes', 'Quinns', 'Henry L', 'Palmetto', 'Times Square', 'Benny McClenahan', 'four', 'one', 'Consuela', 'Gloria', 'Judy', 'June', 'months', 'American', 'Faustina O’Brien', 'Baedeker', 'Brewer', 'Albrucksburger', 'Haag', 'Ardita Fitz-Peters', 'P', 'Jewett', 'the American Legion', 'Claudia Hip', 'Duke', 'Gatsby’s house', 'nine o’clock', 'one morning', 'July', 'first', 'two', '“Good morning', 'today', 'American—that', 'perhaps half a dozen', 'the past month', 'first', 'West Egg', 'Gatsby', 'the\\nMiddle West—all', 'America', 'Oxford', 'many\\nyears', 'Jordan Baker', '“San Francisco', '“My', 'Europe—Paris', 'Venice', 'the Bois de Boulogne', '“Then', 'first', 'the Argonne Forest', 'half mile', 'two days and two nights', 'hundred and thirty', 'sixteen', 'three', 'German', 'Allied', 'decoration—even Montenegro', 'Montenegro', 'the\\nAdriatic Sea!”\\n\\nLittle Montenegro', 'Montenegrin', 'a dozen', 'Montenegro', '“Orderi di\\nDanilo,”', '“Montenegro', 'Nicolas Rex', 'Jay Gatsby,”', '“For Valour Extraordinary', 'Oxford', 'Trinity Quad—the', 'the Earl of\\nDoncaster', 'half a dozen', 'Gatsby', 'the Grand Canal', 'this afternoon', '“At lunch?”\\n\\n“No', 'this afternoon', 'Baker', 'Baker?”\\n\\n“No', 'Baker', 'Jordan', 'Jay Gatsby', 'Port Roosevelt', 'Wilson', 'half\\nAstoria—only half', 'Gatsby', 'are,”', 'Gatsby', '“What', 'Oxford?”\\n\\n“I', 'Christmas', 'the Queensboro Bridge', 'first', 'first', 'two', 'Europe', 'Gatsby’s', 'Blackwell’s Island', 'three', 'two bucks', '…”', 'Gatsby', 'Forty-second Street', 'Gatsby', 'Carraway', 'Wolfshiem', 'Jew', 'two', 'a\\nmoment', 'Wolfshiem', 'Gatsby', 'Katspaugh', 'Katspaugh', 'a penny', 'Gatsby', 'Wolfshiem', '“This', 'Wolfshiem', '“Yes', 'Gatsby', 'Wolfshiem', 'Wolfshiem', 'Metropole', 'Metropole,”', 'Wolfshiem', 'Rosy Rosenthal', 'six', 'Rosy', 'almost morning', 'Rosy', 'Rosy', 'four o’clock', '“Sure', '“He', 'three', '“Four', 'Becker', 'two', 'Wolfshiem', '“This', 'Wolfshiem', '“I', 'Wolfshiem', 'Metropole', 'one', 'Gatsby', 'Wolfshiem', '“He', 'Wolfshiem', 'Oggsford', '“Oh!”\\n\\n“He', 'Oggsford College', 'England', 'Oggsford College?”', '“Have', 'Gatsby', '“Several years,”', 'an hour', '“Yeah', '“Yeah', 'Gatsby’s', 'Wolfshiem', 'two', 'Meyer,”', 'Gatsby', 'Wolfshiem', '“You', 'fifty years old', '“He', 'Gatsby', '“This', 'one', 'his sentimental days', 'New York—a', 'Broadway', '“No', '“Meyer Wolfshiem', 'Gatsby', 'the World’s Series', '1919.”', 'the World’s\\nSeries', '1919', 'one', 'fifty million', 'Tom Buchanan', 'Tom', 'half a dozen', '“This', 'Gatsby', 'Buchanan', 'Gatsby’s', 'Tom', 'Gatsby', 'Gatsby', 'One October day', 'Jordan Baker', 'the Plaza Hotel', 'one', 'half', 'half', 'England', 'tut-tut-tut-tut', 'Daisy Fay’s house', 'eighteen', 'two years', 'Louisville', 'Camp\\nTaylor', '“Anyways', 'five feet', 'Jordan,”', 'the Red\\nCross', 'Daisy', 'Jay Gatsby', 'the next year', 'Daisy', 'one winter', 'night', 'New York', 'several weeks', 'the next autumn', 'February', 'New Orleans', 'June', 'Tom Buchanan', 'Chicago', 'Louisville', 'hundred', 'four', 'the Muhlbach Hotel', 'three hundred and fifty thousand\\ndollars', 'half an hour', 'Sauterne', 'one', '“Never', '‘Daisy’s', 'half\\nan hour', 'Next day', 'five o’clock', 'Tom Buchanan', 'three', 'the South Seas', 'Santa Barbara', 'a\\nminute', 'Tom', 'the\\nhour', 'August', 'A week', 'Santa Barbara Tom', 'Ventura', 'one night', 'one', 'the Santa Barbara Hotel', 'April Daisy', 'France', 'a year', 'one', 'Cannes', 'Deauville', 'Chicago', 'Daisy', 'Chicago', 'Daisy', 'about six weeks ago', 'Gatsby', 'first', 'years', 'Gatsby', 'West Egg', 'Gatsby', 'Jordan Baker', 'half an hour', 'Central Park', 'the West Fifties', 'the Sheik of Araby', 'night', '“Gatsby', 'Daisy', 'June', 'night', '“He', 'Jordan', 'Daisy', 'some afternoon', 'five years', '“He', '“And', 'half', 'one', 'Jordan', 'first', 'New York—and', '“When', 'Tom', 'Chicago', 'years', 'Daisy', 'Gatsby', '“And Daisy', 'Jordan', 'Fifty-Ninth\\nStreet', 'Gatsby', 'Tom Buchanan', 'West Egg', 'Two o’clock', 'Gatsby’s', 'first', '“hide-and-go-seek”', 'Gatsby', 'Fair,”', 'Coney Island', 'all summer', 'Baker,”', 'Daisy', 'tomorrow', '“What day', '“What day', 'the day', 'one', '“You', 'Gatsby', 'Coney Island', 'Daisy', 'next morning', 'Tom,”', 'Tom', '“Who', 'eleven o’clock', 'Gatsby', 'Finn', 'West Egg\\nVillage', 'two o’clock', 'Gatsby’s', 'An hour', 'Gatsby', '“What', 'four', 'The\\nJournal', 'Finn', 'twelve', 'three', 'Clay’s Economics', 'Finnish', 'just two minutes', 'four', '“Are', 'Castle Rackrent', 'an hour', 'an hour', 'Ferdie', 'Ferdie', 'half a minute', 'Daisy’s', 'Daisy', 'Gatsby', 'thousand', 'Daisy', '“Five years next November', 'Gatsby’s', 'at least\\nanother minute', 'Finn', 'Daisy', 'first', '“Where', 'Gatsby', '“This', 'Gatsby', 'half an hour', 'Gatsby’s', 'Kant', 'half an hour', 'a decade before', 'five', 'Found a Family—he', 'Americans', 'half an hour', 'Gatsby’s', 'Gatsby', 'years', '“Has', 'Daisy', 'Jay', 'Daisy', '“Absolutely', 'Daisy', 'Gatsby', '“My', 'just three years', 'Daisy', 'two', 'night', 'Daisy', 'Marie Antoinette', 'Gatsby', '“the Merton College\\nLibrary”', 'one', 'Klipspringer', 'Gatsby’s', 'Adam’s', 'Chartreuse', 'Daisy', 'Daisy', 'Gatsby', 'two', 'third', 'a minute', 'two', 'dozen', 'England', 'spring and fall', 'Daisy', 'midsummer', 'Gatsby’s', 'Gatsby', 'Daisy', 'Daisy', '“That', 'Dan Cody', 'years ago', 'Gatsby', 'eighteen', 'Daisy', 'Gatsby', 'Gatsby', 'Detroit', 'Daisy', 'a moment', 'one', 'Gatsby', 'Klipspringer', 'a few minutes', 'Daisy', 'Klipspringer', '…”\\n\\n“Klipspringer', 'Gatsby', 'Ewing', '“I', 'Gatsby', 'Gatsby', 'Klipspringer', '“The Love Nest”', 'Gatsby', 'Gatsby', '“In the morning', 'West Egg', 'New\\nYork', 'Gatsby’s', 'five years', 'Daisy', 'Daisy', 'New York', 'one\\nmorning', 'Gatsby’s', '“Anything', 'Gatsby', '“Why—any', 'a confused five minutes', 'Gatsby’s', 'hundreds', 'all\\nsummer', 'Canada”', 'one', 'the Long Island', 'James Gatz', 'North Dakota', 'James Gatz—that', 'seventeen', 'Dan Cody’s', 'Lake Superior', 'James Gatz', 'Jay\\nGatsby', 'Tuolomee', 'Cody', 'half an\\nhour', 'Jay Gatsby', 'West Egg', 'Long Island', 'Platonic', 'God—a', 'Jay Gatsby', 'over a year', 'Lake Superior', 'some months before', 'Lutheran College of St', 'Olaf’s', 'Minnesota', 'two weeks', 'Lake Superior', 'the\\nday', 'Dan Cody’s', 'Cody', 'fifty years old', 'Nevada', 'Yukon', 'seventy-five', 'Montana', 'Ella Kaye', 'de Maintenon', '1902', 'five years', 'James Gatz’s', 'Little Girl Bay', 'Gatz', 'Cody—he', 'Cody', 'one', 'Duluth', 'six', 'Tuolomee', 'the West Indies', 'the\\nBarbary Coast', 'Gatsby', 'Cody', 'Dan Cody', 'Dan Cody', 'Gatsby', 'five\\nyears', 'three', 'Continent', 'Ella Kaye', 'one night', 'Boston', 'a week', 'Dan Cody', 'Gatsby’s', 'one', 'American', 'Eastern', 'Cody', 'Gatsby', 'Cody', 'twenty-five\\nthousand dollars', 'millions', 'Ella Kaye', 'Jay Gatsby', 'first', 'Gatsby', 'several\\nweeks', 'New York', 'Jordan', 'Sunday', 'afternoon', 'two minutes', 'Tom\\nBuchanan', 'three', 'Sloane', 'you,”', 'Gatsby', 'just a minute', 'Tom', 'Sloane', 'Gatsby', 'Tom', 'Buchanan', 'Tom', '“About two weeks ago', 'Nick', 'Gatsby', '“That', 'Tom', 'Nick?”\\n\\n“Next', '“That', 'Sloane', 'two', 'Gatsby,”', 'Sloane', 'Gatsby', 'Tom', 'New York', '“You', 'Sloane', '“Come along,”', 'Gatsby', 'Sloane', 'Gatsby', 'Sloane', 'Gatsby', 'I’ve', 'just a minute', 'Sloane', 'Tom', '“She', '“She', 'Daisy', 'these days', 'Sloane', 'Sloane', 'Tom', 'Tom', 'August', 'Gatsby', 'Tom', 'Daisy’s', 'Gatsby’s', 'Gatsby’s', 'West Egg', 'second', 'hundreds', 'Daisy’s', 'Nick', '“Look around,”', 'Gatsby', '“You', 'Tom’s', '“Perhaps', 'Gatsby', 'Tom', 'Daisy', 'Daisy', '“The', 'Buchanan', 'Buchanan—”', 'Tom', 'Gatsby', 'Tom', 'Daisy', 'Gatsby', 'Tom', 'Daisy', 'Gatsby', 'half an hour', 'Tom', '“A', '“Go ahead,”', 'Daisy', 'a\\nmoment', 'Gatsby', 'fault—Gatsby', 'only two\\nweeks before', 'Baedeker?”', 'Daisy', 'tomorrow', 'Baedeker’s', 'five', 'six', 'Doc', 'I’m sure,”', '“but', '“Anything', 'Baedeker', 'New Jersey', 'Baedeker', 'Daisy', 'Star', 'all evening', 'one', 'Daisy', 'West Egg', 'Broadway', 'Long Island', 'ten square feet', '“Who', 'Gatsby', 'Tom', '“Not Gatsby,”', '“You', 'Tom', 'Daisy’s', 'Daisy', '“That', 'Tom', '“He', 'Nick,”', 'Daisy', '“Three O’Clock', 'Morning,”', 'year', 'Gatsby’s party', 'one', 'Gatsby', 'one', 'those five years', 'late that night', '“She', '“She', '“She', 'Daisy', 'Tom', 'four years', 'One', 'Louisville', 'five\\nyears ago', '“She', '“You', 'Daisy', 'five years', 'a cool night', 'two', 'the year', 'Gatsby', 'Daisy’s', 'a moment', 'Gatsby', 'one Saturday', 'Trimalchio', 'just a minute', 'Gatsby', '“Nope', 'Carraway', '“Carraway', 'My Finn', 'Gatsby', 'a week ago', 'half a dozen', 'West Egg', 'Next day', 'Gatsby', '“No', 'Daisy', 'tomorrow', 'Baker', 'Half an hour', 'Daisy', 'Gatsby', 'The next day', 'the summer', 'the National Biscuit Company', 'noon', '“Hot!”', 'Buchanans’', 'Gatsby', '“The', '“Madame', 'Daisy', 'Jordan', 'Thomas Buchanan', 'Daisy', 'Jordan', 'Tom’s', 'Daisy', '“No', 'Tom', 'Nick …”\\n\\n“Make', 'Daisy', 'Gatsby', '“You', 'Jordan', 'Daisy', '“You', 'Nick', 'Daisy', '“Come', 'Gatsby', 'Daisy', '“Yes,”', '“Aunt Jordan’s', 'Daisy', 'Gatsby', '“Where’s Daddy?”\\n\\n“She', 'Daisy', 'Daisy', 'Pammy', '“Goodbye', 'Tom', 'four', 'Gatsby', 'Tom', 'every year', '“Come', 'Gatsby', 'the green Sound', 'one', 'Tom', 'about an hour', 'Daisy', 'the\\nday after', 'the next thirty years?”\\n\\n“Don’t', 'Jordan', 'Daisy', 'Tom', 'Gatsby', '“but I’m', 'first', '“Who', 'Daisy', 'Tom Buchanan', 'Gatsby', 'Daisy', '“You', 'Tom', 'Gatsby', '“Everybody', '“Have', 'Jordan', 'three', 'Tom', '“Have', 'Gatsby', '“About a quarter of a mile', 'Tom', '“Shall', 'Daisy', 'Tom', 'Tom', 'Daisy', 'Jordan', 'Gatsby', 'Tom', 'Gatsby', 'Tom', 'Daisy', 'Tom', 'Gatsby’s', 'Daisy,”', 'Tom', 'Gatsby’s', '“You', 'Nick', 'Jordan', 'Gatsby', 'Jordan', 'Tom', 'Gatsby’s', 'Tom', 'Tom', '“See', 'Jordan', '“You', '“Perhaps', 'second', 'Jordan', '“A medium?”\\n\\n“About Gatsby.', '“About Gatsby', 'Oxford', 'Jordan', '“An Oxford', 'Oxford', 'New Mexico,”', 'Tom', 'Tom', 'Jordan', 'Gatsby’s', 'Tom', 'Jordan', 'Tom', 'Tom', 'Wilson', '“Been', 'Tom', '“You', 'Wilson', 'Tom', 'last week', 'Wilson', 'Wilson', '“No', '“Your', 'Tom', 'ten years', 'Tom', 'two', 'Wilson', '“Dollar twenty', 'Tom', 'Myrtle', 'Tom', 'less than an hour before—and', 'Wilson', 'Tom', 'tomorrow', 'afternoon', 'afternoon', 'less than\\ntwenty feet', 'one', 'Myrtle Wilson', 'one', 'Myrtle\\nWilson’s', 'Tom', 'Jordan Baker', 'Tom', 'an hour ago', 'Daisy', 'Wilson', 'Astoria', 'fifty miles', 'Fiftieth Street', 'Jordan', 'New York', 'Tom', 'Daisy', 'two', 'Tom', 'Central Park', 'Plaza', 'the Plaza Hotel', 'Daisy’s', 'five', 'four\\no’clock', 'Park', 'Daisy', 'Jordan', 'Daisy', 'Tom', 'ten', 'Gatsby', 'Jordan', '“Excuse', 'Gatsby', 'Tom', '“What', '“All', '“Now', 'Tom,”', 'Daisy', 'Tom', 'Mendelssohn’s\\nWedding March', '“Imagine', 'Jordan', 'June,” Daisy', 'June', 'Tom?”\\n\\n“Biloxi,”', '“A', 'Biloxi', 'Biloxi', 'Tennessee', 'Jordan', 'two', 'three weeks', 'The day', 'a moment', 'a Bill Biloxi', '“That', 'today', 'Daisy', '“Remember Biloxi,” Jordan', 'Daisy’s', '“He', 'Louisville', 'Asa\\nBird', 'the last minute', 'Jordan', '“He', 'Yale', 'Tom', 'Gatsby’s foot', 'Tom eyed', '“By', 'Gatsby', 'Oxford', 'Oxford', 'Biloxi', 'New Haven', 'Gatsby', 'five months', 'Oxford', 'Tom', 'Gatsby', '“We', 'England', 'France', 'one', 'Daisy', 'Tom,”', 'Tom', 'Gatsby', 'one', 'Gatsby', '“What', 'Gatsby', '“He', 'Daisy', 'Tom', 'Jordan', 'Gatsby', 'Daisy', 'Tom', 'Gatsby', '“Your', 'Gatsby', 'Tom', '“She', '“She', 'Jordan', 'Tom', 'Gatsby', '“Sit', 'Daisy,” Tom’s', 'Gatsby', 'five', 'Tom', 'Daisy', 'five', '“Not seeing,”', 'Gatsby', '“No', 'Tom', 'five\\nyears ago', 'Daisy then—and I’ll', 'Daisy', '“No,”', 'Gatsby', '“And', 'Daisy', 'Daisy', 'Chicago', 'Gatsby', 'Jordan', 'Tom', 'the Punch Bowl', 'Gatsby', 'Jay,”', 'Gatsby', '“Even', 'Tom', '“She', 'Daisy', 'Gatsby', 'Daisy alone,”', '“Even', 'Tom', '“You', 'Gatsby', 'Tom', '“Nonsense', 'Tom’s', 'Gatsby', 'Daisy', 'Tom', 'one', 'Meyer', 'tomorrow', 'Gatsby', '“He', 'Wolfshiem', 'Chicago', 'first', '“What', 'Gatsby', 'Walter\\nChase', 'a month', 'New Jersey', 'Walter', '“He', 'Tom', 'Gatsby', 'Gatsby’s', '“That', 'Tom', 'Daisy', 'Gatsby', 'Jordan', 'Gatsby—and', 'Daisy', 'as the\\nafternoon', 'Tom', 'two', 'Daisy,”', 'Tom', 'Gatsby’s', 'Tom', 'Tom', 'Jordan', '“Want', '“No', 'thirty', 'seven o’clock', 'Long Island', 'Tom', 'Jordan', 'Thirty—the', 'a decade', 'Jordan', 'Daisy', 'thirty', 'Greek', 'Michaelis', 'five', 'George Wilson', 'Michaelis', 'Wilson', 'Wilson', 'the day after tomorrow', 'Michaelis', 'four years', 'Wilson', 'one', 'Michaelis', 'Wilson', 'Michaelis', 'seven', 'Mavro Michaelis', 'first', 'New York', 'a hundred yards', 'Myrtle Wilson', 'Michaelis', 'first', 'three', 'four', 'Tom', 'Wilson’ll', 'God!”', 'Tom', 'a minute', 'Jordan', 'Myrtle Wilson’s', 'Tom', 'Wilson', 'Wilson', 'Tom', '“—o—”\\n\\n“No', '“M-a-v-r-o—”\\n\\n“Listen', 'Tom', '“r—”', '“o—”\\n\\n“g—”\\n\\n“g—” He', 'Tom’s', '“What', 'Tom', '“She', 'two', 'Michaelis', 'one', '“Going', 'N’York', 'thirty or forty miles', '“See', 'forty', 'fifty', 'sixty', 'Wilson', 'Tom', 'Wilson', '“You’ve', 'Tom', 'Tom', 'Tom', 'a minute\\nago', 'New York', 'Tom', '“He', 'Tom', '“Now', 'Wilson', 'Tom', 'two', 'Tom', 'half an hour ago', 'Tom', 'the night', '“He', 'Buchanans’', 'Tom', 'second', 'two', 'West Egg', 'Nick', 'Jordan', 'Jordan', '“No', 'Jordan', 'one day', 'Jordan', 'a few minutes', 'twenty yards', 'Gatsby', 'two', 'a minute', '“Yes', 'Daisy', 'West Egg', '“Who', 'Wilson', '“Was Daisy', '“Yes,”', '“but', 'New York', 'a minute', 'first', 'Daisy', 'second', '“Anyhow—Daisy', 'this afternoon', '“He', '“All night', 'Tom', 'Daisy', 'two', 'three', 'Daisy’s', 'June', 'three months', 'Daisy', 'Tom', 'two', 'Gatsby', 'Daisy', 'night', '“Nothing happened,”', 'about four o’clock', 'a minute', 'that night', 'many days', 'two', 'French', '“Go', 'Atlantic City', 'Montreal', 'Daisy', 'this night', 'Dan Cody—told', '“Jay Gatsby”', 'Tom’s', 'Daisy', 'first', 'Camp Taylor', 'Daisy', 'Daisy—it', 'Daisy’s house', 'Jay Gatsby', 'Daisy', 'October', 'millions', 'Daisy', 'Daisy', 'Gatsby—nothing', 'two days later', 'Gatsby', 'Gatsby', 'Daisy', 'Daisy', 'fall day', 'The afternoon', 'the next day', 'Argonne', 'armistice', 'Oxford', 'Daisy', 'the year', 'the\\n“Beale Street Blues”', 'hundred', 'Daisy', 'Tom\\nBuchanan', 'Daisy', 'Gatsby', 'Oxford', 'Long Island', 'Gatsby', 'a minute', 'first', 'France', 'Tom', 'Daisy', 'Louisville', 'week', 'the November', 'night', 'Daisy’s house', 'a minute', 'nine o’clock', 'The night', 'one', 'Gatsby’s', 'Gatsby', 'Gatsby', '“Twelve minutes', 'Gatsby', 'about noon', 'First', 'first', 'three months before', 'corruption—and', 'Gatsby', 'Just before noon', 'Jordan Baker', 'this morning', 'Hempstead', 'Southampton', 'this afternoon', 'Daisy’s house', 'last night', 'Southampton', '“No—I', 'this afternoon', 'this afternoon', 'Various—”', 'Gatsby’s house', 'a few minutes', 'four', 'Detroit', 'just noon', 'Myrtle Wilson’s', 'the night before', 'Catherine', 'Flushing', 'midnight', 'George Wilson', 'Michaelis', 'first', 'four', 'five', 'two', 'three', 'Michaelis', 'fifteen minutes', 'Wilson', 'three o’clock', 'a couple of months ago', 'Michaelis', 'George', 'a minute', '“Twelve years', '“Ever', 'George', 'Michaelis', 'a few hours', 'Wilson', 'George', '“You', 'George', 'George', '“That', '“Which', '“That', 'Michaelis', 'Wilson', '“You', '“She', 'Michaelis', 'Wilson', 'a dozen', 'Wilson', 'Myrtle', 'God!”', 'Wilson', '“Who', 'George,”', '“This', 'morning', '“He', 'George', 'Wilson', 'one', 'Michaelis', 'Wilson', 'Wilson', '“Ah-h-h—”', 'Michaelis', '“Maybe', 'Wilson', 'About five o’clock', '‘God', 'God!’\\u200a”\\n\\nStanding', 'Michaelis', 'Wilson', 'Michaelis', 'Wilson', 'six o’clock', 'Michaelis', 'one', 'the night', 'three', 'Wilson', 'Michaelis', 'four hours', 'Wilson', 'Port Roosevelt', 'Gad’s Hill', 'Gad’s Hill', 'noon', 'three hours', 'Michaelis', 'half-past two', 'West Egg', 'Gatsby’s', 'Gatsby’s', 'two o’clock', 'the summer', 'a moment', 'four', 'Gatsby', 'one', 'Gatsby’s house', 'first', 'four', 'Gatsby', 'two years', 'that day', 'that night', 'the next day', 'Gatsby’s', 'next morning', 'Michaelis’s', 'Wilson’s', 'Catherine', 'Gatsby', 'Wilson', 'West Egg', 'first', 'Daisy', 'half an hour', 'Tom', '“No', '“Any', 'Gatsby', 'Meyer Wolfshiem’s', 'Broadway', 'five', 'three', 'Gatsby', 'You’ve', 'Dan Cody', 'New York', 'Wolfshiem', 'Daisy', 'Wolfshiem', 'Gatsby', 'Carraway', 'Edgar', 'Meyer Wolfshiem', 'Long Distance', 'Chicago', 'Daisy', '“This', 'Slagle', '…”', '“Young Parke’s', 'New\\nYork', 'just five minutes before', 'Gatsby', 'Gatsby’s', 'the third day', 'Henry C. Gatz', 'Minnesota', 'Gatsby’s', 'September day', 'Chicago', 'Chicago', 'Gatz', 'first', 'Gatsby—”\\n\\n“Gatz', 'Gatz', 'East', '“He', 'James J', 'Hill', '“This', 'Carraway,”', 'Klipspringer', 'Gatsby’s', 'I’ll', 'Greenwich', 'tomorrow', 'Gatsby—one', 'one', 'Gatsby', 'New York', 'Meyer\\nWolfshiem', '“The\\nSwastika Holding Company,”', 'first', 'Jewess', 'Chicago', 'first', 'Rosary,”', 'Carraway', 'Chicago', 'Wolfshiem’s', '“You', 'Chicago', 'Chicago', 'Gatsby', 'Meyer Wolfshiem', 'first', '“A', 'First', 'Forty-third Street', 'a couple of days', 'more than four', 'half an hour', 'the American Legion', 'Albany', 'two', 'World’s Series', '1919', '“You', 'this afternoon', '“When', 'a moment', 'West\\nEgg', 'Gatz', '“Jimmy', '“He', 'two years ago', 'another\\nminute', 'Hopalong\\nCassidy', 'September\\n12, 1906', '6:00      a.m', '6:15-6:30', '8:30-4:30 p.m', '4:30-5:00', '5:00-6:00', 'one', 'week', 'Save $5.00', '“Jimmy', 'three', 'Lutheran', 'Flushing', 'Gatsby’s', 'half an hour', 'five o’clock', 'three', 'Gatz', 'a little later four or five', 'West Egg', 'Gatsby’s', 'Gatsby’s', 'three months', 'Gatsby’s', 'Gatsby', 'Daisy', '“Amen', 'hundreds', 'West', 'Chicago', 'Union Station', 'six o’clock of a\\nDecember evening', 'Chicago', 'This-or-That’s', 'Chicago', 'Milwaukee', 'St. Paul railroad', 'Christmas', 'Wisconsin', 'one strange hour', 'Middle West—not', 'Swede', 'winters', 'Carraway', 'decades', 'West', 'all—Tom', 'Gatsby', 'Daisy', 'Jordan', 'Westerners', 'Eastern', 'East', 'Ohio', 'West Egg', 'El Greco', 'hundred', 'four', 'Gatsby’s', 'East', 'one', 'Jordan Baker', 'just a minute', 'Jordan', '“You', '“You', 'five years too old', 'One afternoon', 'October', 'Tom Buchanan', 'Fifth Avenue', 'Nick', 'Nick,”', 'Wilson', 'about\\nthose missing hours', '“He', 'every minute', 'Myrtle', 'one', 'Tom', 'Daisy—they', 'Gatsby’s', 'One', 'Daisy', 'Gatsby', 'East Egg', 'Saturday', 'New York', 'One night', 'the last night', 'Sound', 'Dutch', 'Gatsby’s\\nhouse', 'Gatsby’s', 'first', 'Daisy’s', 'Gatsby', 'year', 'year', 'one', 'END OF THE PROJECT GUTENBERG EBOOK THE GREAT GATSBY', 'U.S', 'United States', 'Foundation', 'the United\\nStates', 'the General Terms of Use', 'Project\\nGutenberg™', 'GUTENBERG™', 'Project Gutenberg', 'Project Gutenberg', 'the United States', 'U.S', '“Project\\nGutenberg”),', 'the Full\\nProject Gutenberg™ License', '1', 'General Terms of Use and Redistributing Project Gutenberg™', '1.A', 'Project Gutenberg™', 'Project Gutenberg™', 'Project Gutenberg™', '“Project Gutenberg”', 'Project Gutenberg™', 'Project\\nGutenberg™', 'Project Gutenberg™', '1.E', 'The Project Gutenberg Literary Archive Foundation', 'Foundation”', 'PGLAF),', 'Project Gutenberg™', 'the United\\nStates', 'the\\nUnited States', 'the United States', 'Project Gutenberg', 'Project Gutenberg™', 'Project Gutenberg™', 'Project Gutenberg™', 'Project Gutenberg™ License', 'the United States', 'Project Gutenberg™', 'Foundation', 'the United States', 'Project Gutenberg:\\n\\n1.E.1', 'Project Gutenberg™ License', 'a Project Gutenberg™', 'Gutenberg”', 'Gutenberg”', 'the United States', 'the Project Gutenberg License', 'the United States', 'Project Gutenberg™', 'U.S', 'the United States', '“Project\\nGutenberg”', 'the Project Gutenberg™', '1.E.9', 'Project Gutenberg™', '1.E.1', '1.E.7', 'the Project Gutenberg™ License', 'Project Gutenberg™\\nLicense', 'Project Gutenberg™', '1.E.1', 'the Project\\nGutenberg™ License', 'a Project Gutenberg™', '“Plain Vanilla ASCII”', 'Project Gutenberg™', '“Plain\\nVanilla ASCII”', 'the\\nfull Project Gutenberg™ License', '1.E.1', 'any Project Gutenberg™', '1.E.8', '1.E.9', 'Project Gutenberg™', '20%', 'Project Gutenberg™', 'Project Gutenberg™', 'the Project\\n        Gutenberg Literary Archive Foundation', '60 days', 'the Project\\n        Gutenberg Literary Archive Foundation', '4', 'the Project Gutenberg\\n        Literary Archive Foundation', '30 days', 'Project Gutenberg™', '1.F.3', '90 days', 'Project Gutenberg™', 'Project\\nGutenberg™', 'the Project Gutenberg Literary Archive Foundation', 'Project Gutenberg™', 'Foundation', '3', 'Project Gutenberg', 'U.S', 'Project\\nGutenberg™', 'Project Gutenberg™', '1.F.3', 'the Project\\nGutenberg Literary Archive Foundation', 'Project\\nGutenberg™', 'Project\\nGutenberg™', '90 days', 'second', 'second', 'Foundation', 'Foundation', 'Project Gutenberg™', 'Project Gutenberg™', 'Project Gutenberg™', 'Project Gutenberg™', '2', 'the Mission of Project Gutenberg™\\n\\nProject Gutenberg™', 'hundreds', 'Project Gutenberg™’s', 'the Project Gutenberg™', '2001', 'the Project\\nGutenberg Literary Archive Foundation', 'Project Gutenberg™', 'the Project Gutenberg Literary\\nArchive Foundation', 'Sections 3', '4', 'Foundation', '3', 'the Project Gutenberg Literary Archive Foundation', 'The Project Gutenberg Literary Archive Foundation', '501', 'Mississippi', 'the Internal\\nRevenue Service', 'EIN', '64-6221541', 'the Project Gutenberg Literary\\nArchive Foundation', 'U.S', 'Foundation’s', '809 North 1500', 'West', 'Salt Lake City', 'UT 84116', '801', '596-1887', 'Foundation’s', '4', 'the Project Gutenberg\\nLiterary Archive Foundation', '$1', '$5,000', 'IRS', 'Foundation', '50', 'the United\\nStates', 'the United States', 'U.S', 'Project Gutenberg', '5', 'General Information About Project Gutenberg™', 'Michael S. Hart', 'Project\\nGutenberg™', 'forty years', 'Project Gutenberg™ eBooks', 'U.S', 'PG', 'Project Gutenberg™', 'the Project Gutenberg Literary\\nArchive Foundation']\n",
            "################\n",
            "2578\n"
          ]
        }
      ]
    },
    {
      "cell_type": "code",
      "source": [
        "spark.stop()"
      ],
      "metadata": {
        "id": "ttr7Q9K0jlsp"
      },
      "execution_count": null,
      "outputs": []
    },
    {
      "cell_type": "code",
      "source": [
        "# del spark"
      ],
      "metadata": {
        "id": "zJnI4HaGnLzd"
      },
      "execution_count": null,
      "outputs": []
    },
    {
      "cell_type": "code",
      "source": [
        "type(spark)"
      ],
      "metadata": {
        "colab": {
          "base_uri": "https://localhost:8080/",
          "height": 204
        },
        "id": "vkaVz2-rlhY8",
        "outputId": "44057770-74e0-43db-8452-a5c8228ab239"
      },
      "execution_count": null,
      "outputs": [
        {
          "output_type": "execute_result",
          "data": {
            "text/plain": [
              "pyspark.sql.session.SparkSession"
            ],
            "text/html": [
              "<div style=\"max-width:800px; border: 1px solid var(--colab-border-color);\"><style>\n",
              "      pre.function-repr-contents {\n",
              "        overflow-x: auto;\n",
              "        padding: 8px 12px;\n",
              "        max-height: 500px;\n",
              "      }\n",
              "\n",
              "      pre.function-repr-contents.function-repr-contents-collapsed {\n",
              "        cursor: pointer;\n",
              "        max-height: 100px;\n",
              "      }\n",
              "    </style>\n",
              "    <pre style=\"white-space: initial; background:\n",
              "         var(--colab-secondary-surface-color); padding: 8px 12px;\n",
              "         border-bottom: 1px solid var(--colab-border-color);\"><b>pyspark.sql.session.SparkSession</b><br/>def __init__(sparkContext: SparkContext, jsparkSession: Optional[JavaObject]=None, options: Dict[str, Any]={})</pre><pre class=\"function-repr-contents function-repr-contents-collapsed\" style=\"\"><a class=\"filepath\" style=\"display:none\" href=\"#\">/usr/local/lib/python3.11/dist-packages/pyspark/sql/session.py</a>The entry point to programming Spark with the Dataset and DataFrame API.\n",
              "\n",
              "A SparkSession can be used to create :class:`DataFrame`, register :class:`DataFrame` as\n",
              "tables, execute SQL over tables, cache tables, and read parquet files.\n",
              "To create a :class:`SparkSession`, use the following builder pattern:\n",
              "\n",
              ".. versionchanged:: 3.4.0\n",
              "    Supports Spark Connect.\n",
              "\n",
              ".. autoattribute:: builder\n",
              "   :annotation:\n",
              "\n",
              "Examples\n",
              "--------\n",
              "Create a Spark session.\n",
              "\n",
              "&gt;&gt;&gt; spark = (\n",
              "...     SparkSession.builder\n",
              "...         .master(&quot;local&quot;)\n",
              "...         .appName(&quot;Word Count&quot;)\n",
              "...         .config(&quot;spark.some.config.option&quot;, &quot;some-value&quot;)\n",
              "...         .getOrCreate()\n",
              "... )\n",
              "\n",
              "Create a Spark session with Spark Connect.\n",
              "\n",
              "&gt;&gt;&gt; spark = (\n",
              "...     SparkSession.builder\n",
              "...         .remote(&quot;sc://localhost&quot;)\n",
              "...         .appName(&quot;Word Count&quot;)\n",
              "...         .config(&quot;spark.some.config.option&quot;, &quot;some-value&quot;)\n",
              "...         .getOrCreate()\n",
              "... )  # doctest: +SKIP</pre>\n",
              "      <script>\n",
              "      if (google.colab.kernel.accessAllowed && google.colab.files && google.colab.files.view) {\n",
              "        for (const element of document.querySelectorAll('.filepath')) {\n",
              "          element.style.display = 'block'\n",
              "          element.onclick = (event) => {\n",
              "            event.preventDefault();\n",
              "            event.stopPropagation();\n",
              "            google.colab.files.view(element.textContent, 166);\n",
              "          };\n",
              "        }\n",
              "      }\n",
              "      for (const element of document.querySelectorAll('.function-repr-contents')) {\n",
              "        element.onclick = (event) => {\n",
              "          event.preventDefault();\n",
              "          event.stopPropagation();\n",
              "          element.classList.toggle('function-repr-contents-collapsed');\n",
              "        };\n",
              "      }\n",
              "      </script>\n",
              "      </div>"
            ]
          },
          "metadata": {},
          "execution_count": 11
        }
      ]
    },
    {
      "cell_type": "code",
      "source": [
        "# from pyspark import SparkContext, SparkConf\n",
        "\n",
        "# conf = SparkConf().setAppName(\"NewSparkContext\").setMaster(\"local[*]\")\n",
        "# sc = SparkContext(conf=conf)"
      ],
      "metadata": {
        "id": "mw2tZIwFsCWB"
      },
      "execution_count": null,
      "outputs": []
    },
    {
      "cell_type": "markdown",
      "source": [
        "### **Spark Works**"
      ],
      "metadata": {
        "id": "DhaFL_7MiEVB"
      }
    },
    {
      "cell_type": "code",
      "source": [
        "from pyspark import SparkContext\n",
        "sc = SparkContext(appName=\"Vahid's PySpark\")  # Replace \"MySparkApp\" with your\n",
        "# sc = spark.sparkContext"
      ],
      "metadata": {
        "id": "mm3YqZrWhkhe"
      },
      "execution_count": null,
      "outputs": []
    },
    {
      "cell_type": "code",
      "source": [
        "book_sc = sc.textFile('./book.txt')\n",
        "print(type(book_sc))"
      ],
      "metadata": {
        "colab": {
          "base_uri": "https://localhost:8080/"
        },
        "id": "yytgVEm-iMrL",
        "outputId": "90192e37-e087-4948-dc17-e6bf13d3174a"
      },
      "execution_count": null,
      "outputs": [
        {
          "output_type": "stream",
          "name": "stdout",
          "text": [
            "<class 'pyspark.rdd.RDD'>\n"
          ]
        }
      ]
    },
    {
      "cell_type": "code",
      "source": [
        "print(book_sc.take(10))"
      ],
      "metadata": {
        "colab": {
          "base_uri": "https://localhost:8080/"
        },
        "id": "iFsLawn4ifeI",
        "outputId": "3e6da2a1-bc7f-43cf-feb3-8c3778f21eb7"
      },
      "execution_count": null,
      "outputs": [
        {
          "output_type": "stream",
          "name": "stdout",
          "text": [
            "['The Project Gutenberg eBook of The Great Gatsby', '    ', 'This ebook is for the use of anyone anywhere in the United States and', 'most other parts of the world at no cost and with almost no restrictions', 'whatsoever. You may copy it, give it away or re-use it under the terms', 'of the Project Gutenberg License included with this ebook or online', 'at www.gutenberg.org. If you are not located in the United States,', 'you will have to check the laws of the country where you are located', 'before using this eBook.', '']\n"
          ]
        }
      ]
    },
    {
      "cell_type": "code",
      "source": [
        "book_sc.flatMap(lambda x: x.split(' ')).filter(lambda x: len(x) > 0).map(lambda x: (x, 1)).reduceByKey(lambda x, y: (x+y)).sortBy(lambda x: -x[1]).take(10)"
      ],
      "metadata": {
        "colab": {
          "base_uri": "https://localhost:8080/"
        },
        "id": "FeEqzvKXkTFS",
        "outputId": "fcc323ca-e625-4cd8-d655-2bf68d5a31fa"
      },
      "execution_count": null,
      "outputs": [
        {
          "output_type": "execute_result",
          "data": {
            "text/plain": [
              "[('the', 2370),\n",
              " ('and', 1505),\n",
              " ('a', 1385),\n",
              " ('of', 1208),\n",
              " ('to', 1175),\n",
              " ('I', 996),\n",
              " ('in', 813),\n",
              " ('was', 751),\n",
              " ('he', 560),\n",
              " ('that', 519)]"
            ]
          },
          "metadata": {},
          "execution_count": 17
        }
      ]
    },
    {
      "cell_type": "code",
      "source": [
        "book_sc.flatMap(lambda x: x.split(' ')).filter(lambda x: len(x) > 0).map(lambda x: (x, 1)).reduceByKey(lambda x, y: (x+y)).filter(lambda x: x if x[0] in entities else None).sortBy(lambda x: -x[1]).take(100)"
      ],
      "metadata": {
        "colab": {
          "base_uri": "https://localhost:8080/"
        },
        "id": "-u9i_G5nvFzn",
        "outputId": "0e1ad70a-b9c8-47b1-c761-5ae0d3845388"
      },
      "execution_count": null,
      "outputs": [
        {
          "output_type": "execute_result",
          "data": {
            "text/plain": [
              "[('“I', 175),\n",
              " ('one', 118),\n",
              " ('Tom', 115),\n",
              " ('Gatsby', 107),\n",
              " ('Daisy', 99),\n",
              " ('Gatsby’s', 64),\n",
              " ('two', 64),\n",
              " ('“You', 60),\n",
              " ('Wilson', 48),\n",
              " ('first', 47),\n",
              " ('Jordan', 46),\n",
              " ('night', 35),\n",
              " ('I’d', 33),\n",
              " ('half', 33),\n",
              " ('three', 32),\n",
              " ('West', 30),\n",
              " ('“What', 30),\n",
              " ('five', 28),\n",
              " ('Daisy’s', 27),\n",
              " ('“The', 23),\n",
              " ('four', 23),\n",
              " ('“He', 23),\n",
              " ('Baker', 21),\n",
              " ('I’ll', 20),\n",
              " ('years', 20),\n",
              " ('Michaelis', 18),\n",
              " ('morning', 18),\n",
              " ('Egg', 18),\n",
              " ('dozen', 18),\n",
              " ('“She', 17),\n",
              " ('I’ve', 16),\n",
              " ('“And', 16),\n",
              " ('afternoon', 15),\n",
              " ('“Come', 15),\n",
              " ('“Do', 14),\n",
              " ('Wilson’s', 14),\n",
              " ('Myrtle', 14),\n",
              " ('East', 14),\n",
              " ('“This', 14),\n",
              " ('hundred', 14),\n",
              " ('“Who', 13),\n",
              " ('Foundation', 13),\n",
              " ('Buchanan', 13),\n",
              " ('One', 13),\n",
              " ('“We', 12),\n",
              " ('“That', 12),\n",
              " ('Wolfshiem', 12),\n",
              " ('second', 11),\n",
              " ('Chicago', 11),\n",
              " ('“All', 10),\n",
              " ('McKee', 10),\n",
              " ('week', 10),\n",
              " ('Tom’s', 10),\n",
              " ('year', 9),\n",
              " ('Jay', 9),\n",
              " ('Sloane', 9),\n",
              " ('Cody', 9),\n",
              " ('Island', 8),\n",
              " ('summer', 8),\n",
              " ('“but', 8),\n",
              " ('Jordan’s', 8),\n",
              " ('Oxford', 8),\n",
              " ('…”', 7),\n",
              " ('“He’s', 7),\n",
              " ('thousand', 6),\n",
              " ('fifty', 6),\n",
              " ('She’s', 6),\n",
              " ('“My', 6),\n",
              " ('months', 6),\n",
              " ('six', 6),\n",
              " ('ten', 6),\n",
              " ('you,”', 6),\n",
              " ('“A', 6),\n",
              " ('Gatz', 6),\n",
              " ('“Go', 6),\n",
              " ('Nick,”', 5),\n",
              " ('that,”', 5),\n",
              " ('Catherine', 5),\n",
              " ('nine', 5),\n",
              " ('American', 5),\n",
              " ('June', 5),\n",
              " ('Wolfshiem’s', 5),\n",
              " ('Tom,”', 5),\n",
              " ('Saturday', 5),\n",
              " ('Nick', 5),\n",
              " ('“We’re', 5),\n",
              " ('George', 5),\n",
              " ('“Your', 5),\n",
              " ('Meyer', 5),\n",
              " ('French', 4),\n",
              " ('Daisy,”', 4),\n",
              " ('Sunday', 4),\n",
              " ('man,”', 4),\n",
              " ('“When', 4),\n",
              " ('Oggsford', 4),\n",
              " ('“Have', 4),\n",
              " ('God!”', 4),\n",
              " ('Gutenberg”', 4),\n",
              " ('no,”', 4),\n",
              " ('“Her', 4)]"
            ]
          },
          "metadata": {},
          "execution_count": 18
        }
      ]
    },
    {
      "cell_type": "code",
      "source": [],
      "metadata": {
        "id": "XMHOlh2TlvAI"
      },
      "execution_count": null,
      "outputs": []
    }
  ]
}